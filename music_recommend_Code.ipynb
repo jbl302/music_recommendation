{
 "cells": [
  {
   "cell_type": "code",
   "execution_count": null,
   "id": "3d4374a5",
   "metadata": {},
   "outputs": [],
   "source": [
    "import warnings\n",
    "warnings.filterwarnings(\"ignore\", category=FutureWarning)\n",
    "import pandas as pd\n",
    "import numpy as np\n",
    "import matplotlib.pyplot as plt\n",
    "import seaborn as sns"
   ]
  },
  {
   "cell_type": "code",
   "execution_count": null,
   "id": "2b1e7409",
   "metadata": {},
   "outputs": [],
   "source": [
    "from scipy.sparse import csr_matrix\n",
    "from recommeders.knn_recommender import Recommender"
   ]
  },
  {
   "cell_type": "code",
   "execution_count": null,
   "id": "b781f08f",
   "metadata": {},
   "outputs": [],
   "source": [
    "#Read userid-songid-listen_count\n",
    "song_info = pd.read_csv('https://static.turi.com/datasets/millionsong/10000.txt',sep='\\t',header=None)\n",
    "song_info.columns = ['user_id', 'song_id', 'listen_count']\n",
    "\n",
    "#Read song  metadata\n",
    "song_actual =  pd.read_csv('https://static.turi.com/datasets/millionsong/song_data.csv')\n",
    "song_actual.drop_duplicates(['song_id'], inplace=True)\n",
    "\n",
    "#Merge the two dataframes above to create input dataframe for recommender systems\n",
    "songs = pd.merge(song_info, song_actual, on=\"song_id\", how=\"left\")"
   ]
  },
  {
   "cell_type": "code",
   "execution_count": null,
   "id": "6a8190ef",
   "metadata": {},
   "outputs": [],
   "source": []
  }
 ],
 "metadata": {
  "kernelspec": {
   "display_name": "Python 3",
   "language": "python",
   "name": "python3"
  },
  "language_info": {
   "codemirror_mode": {
    "name": "ipython",
    "version": 3
   },
   "file_extension": ".py",
   "mimetype": "text/x-python",
   "name": "python",
   "nbconvert_exporter": "python",
   "pygments_lexer": "ipython3",
   "version": "3.9.5"
  }
 },
 "nbformat": 4,
 "nbformat_minor": 5
}
